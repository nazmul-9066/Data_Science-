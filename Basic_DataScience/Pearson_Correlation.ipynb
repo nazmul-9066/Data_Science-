{
 "cells": [
  {
   "cell_type": "code",
   "execution_count": 1,
   "id": "c228cd7c-1e4d-46c8-b743-cf03c4b27225",
   "metadata": {},
   "outputs": [],
   "source": [
    "import numpy as np \n",
    "from scipy.stats import pearsonr"
   ]
  },
  {
   "cell_type": "code",
   "execution_count": 9,
   "id": "5f4fa069-8ec8-4e53-a8b8-ca0ad1e109ea",
   "metadata": {},
   "outputs": [
    {
     "name": "stdout",
     "output_type": "stream",
     "text": [
      "Correlation Value is : 0.8975128021480279\n",
      "P Value is:  1.2734986420013498e-36\n"
     ]
    }
   ],
   "source": [
    "input_numbers = 100\n",
    "x_datasets = np.random.normal(size = input_numbers)\n",
    "y_datasets = 2 *x_datasets + np.random.normal(size = input_numbers)\n",
    "\n",
    "correlation, p_value = pearsonr(x_datasets, y_datasets)\n",
    "\n",
    "print(\"Correlation Value is :\", correlation)\n",
    "print(\"P Value is: \", p_value)"
   ]
  },
  {
   "cell_type": "code",
   "execution_count": null,
   "id": "4c122b23-92b0-4640-aa2a-8aba52377ef7",
   "metadata": {},
   "outputs": [],
   "source": []
  }
 ],
 "metadata": {
  "kernelspec": {
   "display_name": "Python 3 (ipykernel)",
   "language": "python",
   "name": "python3"
  },
  "language_info": {
   "codemirror_mode": {
    "name": "ipython",
    "version": 3
   },
   "file_extension": ".py",
   "mimetype": "text/x-python",
   "name": "python",
   "nbconvert_exporter": "python",
   "pygments_lexer": "ipython3",
   "version": "3.7.13"
  }
 },
 "nbformat": 4,
 "nbformat_minor": 5
}
