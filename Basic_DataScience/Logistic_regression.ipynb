{
 "cells": [
  {
   "cell_type": "code",
   "execution_count": 1,
   "id": "bcf054a8-3bc9-404b-acb0-f7744dafab6a",
   "metadata": {},
   "outputs": [],
   "source": [
    "#basic or common module import\n",
    "import numpy as np\n",
    "import pandas as pd \n",
    "import matplotlib.pyplot as plt\n",
    "%matplotlib inline"
   ]
  },
  {
   "cell_type": "code",
   "execution_count": 2,
   "id": "f47adc76-8cb3-4f2e-980e-b8bb2314d412",
   "metadata": {},
   "outputs": [],
   "source": [
    "# models related modules import\n",
    "from sklearn.linear_model import LogisticRegression\n",
    "from sklearn.preprocessing import StandardScaler\n",
    "\n",
    "from sklearn import metrics\n",
    "from sklearn import datasets\n",
    "\n",
    "from sklearn.model_selection import train_test_split"
   ]
  },
  {
   "cell_type": "code",
   "execution_count": 3,
   "id": "8686b761-c977-4588-bf95-4978fbacf667",
   "metadata": {},
   "outputs": [],
   "source": [
    "# Loding the Dataset from API\n",
    "\n",
    "datasets = datasets.load_iris()"
   ]
  },
  {
   "cell_type": "code",
   "execution_count": 4,
   "id": "ef97682c-2ff0-4088-b93e-182a2a227ef2",
   "metadata": {},
   "outputs": [],
   "source": [
    "X_datasets = datasets.data[:,[0, 2]]\n",
    "Y_datasets = datasets.target\n",
    "datasets_columns = datasets.target_names"
   ]
  },
  {
   "cell_type": "code",
   "execution_count": 5,
   "id": "803d36da-5241-47a2-abea-5ce994c04e07",
   "metadata": {},
   "outputs": [],
   "source": [
    "#datasets.data (use for indexing position (X_datasets = datasets.data[:,[0, 2]])\n"
   ]
  },
  {
   "cell_type": "code",
   "execution_count": 6,
   "id": "1b518b32-fc8f-4845-971c-b62d4619e572",
   "metadata": {},
   "outputs": [
    {
     "name": "stdout",
     "output_type": "stream",
     "text": [
      "Independed Datasets :  [5.1 1.4]\n",
      "Deendent Datasets :  [0 0 0 0 0 0 0 0 0 0 0 0 0 0 0 0 0 0 0 0 0 0 0 0 0 0 0 0 0 0 0 0 0 0 0 0 0\n",
      " 0 0 0 0 0 0 0 0 0 0 0 0 0 1 1 1 1 1 1 1 1 1 1 1 1 1 1 1 1 1 1 1 1 1 1 1 1\n",
      " 1 1 1 1 1 1 1 1 1 1 1 1 1 1 1 1 1 1 1 1 1 1 1 1 1 1 2 2 2 2 2 2 2 2 2 2 2\n",
      " 2 2 2 2 2 2 2 2 2 2 2 2 2 2 2 2 2 2 2 2 2 2 2 2 2 2 2 2 2 2 2 2 2 2 2 2 2\n",
      " 2 2]\n",
      "Class Names of the Datasets :  ['setosa' 'versicolor' 'virginica']\n"
     ]
    }
   ],
   "source": [
    "print(\"Independed Datasets : \",X_datasets[0])\n",
    "print(\"Deendent Datasets : \",Y_datasets)\n",
    "print(\"Class Names of the Datasets : \", datasets_columns)"
   ]
  },
  {
   "cell_type": "code",
   "execution_count": 7,
   "id": "f34e1ff6-1ac7-4309-a345-d4eaa39fe529",
   "metadata": {},
   "outputs": [],
   "source": [
    "X_train, X_test, Y_train, Y_test = train_test_split(X_datasets, \n",
    "                                                    Y_datasets, \n",
    "                                                    test_size = 0.20,\n",
    "                                                    random_state = 1, \n",
    "                                                    stratify = Y_datasets)\n"
   ]
  },
  {
   "cell_type": "code",
   "execution_count": 8,
   "id": "7125fc3f-afa5-4f96-8b62-ab5592bf9f9e",
   "metadata": {},
   "outputs": [
    {
     "data": {
      "text/plain": [
       "StandardScaler()"
      ]
     },
     "execution_count": 8,
     "metadata": {},
     "output_type": "execute_result"
    }
   ],
   "source": [
    "scalling = StandardScaler()\n",
    "scalling.fit(X_train)\n"
   ]
  },
  {
   "cell_type": "code",
   "execution_count": 12,
   "id": "1b5c6cec-9042-4047-b710-c71f7f527743",
   "metadata": {},
   "outputs": [],
   "source": [
    "Standard_Scalling_for_X_train_datasets = scalling.transform(X_train)\n",
    "Standard_Scalling_for_X_test_datasets =scalling.transform(X_test)"
   ]
  },
  {
   "cell_type": "code",
   "execution_count": 13,
   "id": "e9495a4f-5b3b-4b54-841a-96877b15f510",
   "metadata": {},
   "outputs": [],
   "source": [
    "# Model Calling \n",
    "# lbfgs --> Limited Memory Borden Fletchr Goldfrab Shanno\n",
    "\n",
    "\n",
    "logistic_Regression_model = LogisticRegression(C= 100.0,\n",
    "                                              random_state = 1,\n",
    "                                              solver = 'lbfgs',\n",
    "                                              multi_class = 'ovr')"
   ]
  },
  {
   "cell_type": "code",
   "execution_count": 17,
   "id": "ad73f1eb-b487-4386-a355-2a5e5edc32b1",
   "metadata": {},
   "outputs": [
    {
     "data": {
      "text/plain": [
       "LogisticRegression(C=100.0, multi_class='ovr', random_state=1)"
      ]
     },
     "execution_count": 17,
     "metadata": {},
     "output_type": "execute_result"
    }
   ],
   "source": [
    "logistic_Regression_model.fit(Standard_Scalling_for_X_train_datasets, Y_train)"
   ]
  },
  {
   "cell_type": "code",
   "execution_count": 21,
   "id": "2deb2dcd-2c77-46a9-882a-48b26c87b621",
   "metadata": {},
   "outputs": [],
   "source": [
    "model_predict_results = logistic_Regression_model.predict(Standard_Scalling_for_X_test_datasets)"
   ]
  },
  {
   "cell_type": "code",
   "execution_count": 25,
   "id": "e53a4cba-b3ca-47ba-9832-f169dd7f467a",
   "metadata": {},
   "outputs": [
    {
     "name": "stdout",
     "output_type": "stream",
     "text": [
      "Prediction Result on the IRIS datasets Is: 0.967 \n"
     ]
    }
   ],
   "source": [
    "print(\"Prediction Result on the IRIS datasets Is: %.3f \" %metrics.accuracy_score(Y_test, model_predict_results))"
   ]
  },
  {
   "cell_type": "code",
   "execution_count": null,
   "id": "4ce35d75-656c-4f34-bf6a-3f9867a1bb0a",
   "metadata": {},
   "outputs": [],
   "source": []
  }
 ],
 "metadata": {
  "kernelspec": {
   "display_name": "Python 3 (ipykernel)",
   "language": "python",
   "name": "python3"
  },
  "language_info": {
   "codemirror_mode": {
    "name": "ipython",
    "version": 3
   },
   "file_extension": ".py",
   "mimetype": "text/x-python",
   "name": "python",
   "nbconvert_exporter": "python",
   "pygments_lexer": "ipython3",
   "version": "3.7.13"
  }
 },
 "nbformat": 4,
 "nbformat_minor": 5
}
