{
 "cells": [
  {
   "cell_type": "code",
   "execution_count": 5,
   "id": "b66ec6a4-49cd-49ee-aacc-94bdef00840f",
   "metadata": {},
   "outputs": [
    {
     "name": "stdout",
     "output_type": "stream",
     "text": [
      "[1 1 1 1 1 1 1 1 1 1 0 0 0 0 0 0 0 0 0 0]\n",
      "[1 1 1 1 1 1 1 1 0 0 0 0 0 0 0 0 0 0 1 1]\n",
      "My Observation Data is : \n",
      "SampleData  0  1\n",
      "Expected        \n",
      "0           8  2\n",
      "1           2  8\n",
      "Chi2 = 5.000000, Pvalue = 0.025347\n",
      "[[5. 5.]\n",
      " [5. 5.]]\n"
     ]
    }
   ],
   "source": [
    "import numpy as np\n",
    "import pandas as pd \n",
    "import scipy.stats as stats\n",
    "\n",
    "expected_data = np.array([1]*10 + [0]*10)\n",
    "\n",
    "print(expected_data)\n",
    "\n",
    "sample_data = np.array([1]*8 + [0]*10 + [1]*2)\n",
    "\n",
    "print(sample_data)\n",
    "\n",
    "cross_calculation = pd.crosstab(expected_data,\n",
    "                               sample_data,\n",
    "                               rownames =[\"Expected\"],\n",
    "                               colnames = ['SampleData'])\n",
    "\n",
    "print(\"My Observation Data is : \")\n",
    "print(cross_calculation)\n",
    "\n",
    "\n",
    "chi2, p, dof, expected = stats.chi2_contingency(cross_calculation)\n",
    "\n",
    "print(\"Chi2 = %f, Pvalue = %f\"%(chi2,p))\n",
    "\n",
    "print(expected)"
   ]
  },
  {
   "cell_type": "code",
   "execution_count": null,
   "id": "e7d950cf-3371-49d0-8c9e-3d9fdaf53ec3",
   "metadata": {},
   "outputs": [],
   "source": []
  },
  {
   "cell_type": "code",
   "execution_count": null,
   "id": "62ae8791-7217-48da-b2bd-e5e3d6953e75",
   "metadata": {},
   "outputs": [],
   "source": []
  }
 ],
 "metadata": {
  "kernelspec": {
   "display_name": "Python 3 (ipykernel)",
   "language": "python",
   "name": "python3"
  },
  "language_info": {
   "codemirror_mode": {
    "name": "ipython",
    "version": 3
   },
   "file_extension": ".py",
   "mimetype": "text/x-python",
   "name": "python",
   "nbconvert_exporter": "python",
   "pygments_lexer": "ipython3",
   "version": "3.7.13"
  }
 },
 "nbformat": 4,
 "nbformat_minor": 5
}
